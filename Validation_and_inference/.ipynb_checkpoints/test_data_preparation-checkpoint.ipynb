{
 "cells": [
  {
   "cell_type": "markdown",
   "metadata": {},
   "source": [
    "#### This notebook does mostly the same as 'create_dataset_and_labels.ipynb' but instead of extracting frame from the video, it just creates dataframe of path of the video in test dataset and corresponding labels. The extraction of the frames will happen in real time during validation process."
   ]
  },
  {
   "cell_type": "code",
   "execution_count": 1,
   "metadata": {},
   "outputs": [],
   "source": [
    "import pandas as pd\n",
    "import os\n",
    "import datetime\n",
    "from random import shuffle,sample\n",
    "import re\n",
    "import timeit\n",
    "import matplotlib.pyplot as plt\n",
    "from matplotlib.cbook import flatten\n",
    "%matplotlib inline"
   ]
  },
  {
   "cell_type": "markdown",
   "metadata": {},
   "source": [
    "#### Define the directory with test data"
   ]
  },
  {
   "cell_type": "code",
   "execution_count": null,
   "metadata": {},
   "outputs": [],
   "source": [
    "working_directory = '../Data_samples/test data'"
   ]
  },
  {
   "cell_type": "markdown",
   "metadata": {},
   "source": [
    "##### Extracting paths of video files and csv files from the directory"
   ]
  },
  {
   "cell_type": "code",
   "execution_count": 8,
   "metadata": {},
   "outputs": [],
   "source": [
    "video_names = [root+'/'+file for root, _, files in os.walk(working_directory) for file in files if file.endswith('flv')]\n",
    "csv_names   = [root+'/'+file for root, _, files in os.walk(working_directory) for file in files if file.endswith('csv')]"
   ]
  },
  {
   "cell_type": "markdown",
   "metadata": {},
   "source": [
    "##### If the final csv file already exists it shout be deleted from the list of csv files "
   ]
  },
  {
   "cell_type": "code",
   "execution_count": 27,
   "metadata": {},
   "outputs": [],
   "source": [
    "if '../Data_samples/test data/test_data.csv' in csv_names:\n",
    "    csv_names.remove('../Data_samples/test data/test_data.csv')"
   ]
  },
  {
   "cell_type": "code",
   "execution_count": 28,
   "metadata": {},
   "outputs": [
    {
     "data": {
      "text/plain": [
       "['../Data_samples/test data/2018-05-26.csv',\n",
       " '../Data_samples/test data/2018-05-27.csv',\n",
       " '../Data_samples/test data/2018-05-28.csv',\n",
       " '../Data_samples/test data/2018-05-29.csv',\n",
       " '../Data_samples/test data/2018-05-30.csv',\n",
       " '../Data_samples/test data/2018-05-31.csv']"
      ]
     },
     "execution_count": 28,
     "metadata": {},
     "output_type": "execute_result"
    }
   ],
   "source": [
    "csv_names"
   ]
  },
  {
   "cell_type": "markdown",
   "metadata": {},
   "source": [
    "#### Creating one dataframe with numerical values collecting all the csv files together"
   ]
  },
  {
   "cell_type": "code",
   "execution_count": 29,
   "metadata": {},
   "outputs": [
    {
     "data": {
      "text/html": [
       "<div>\n",
       "<style scoped>\n",
       "    .dataframe tbody tr th:only-of-type {\n",
       "        vertical-align: middle;\n",
       "    }\n",
       "\n",
       "    .dataframe tbody tr th {\n",
       "        vertical-align: top;\n",
       "    }\n",
       "\n",
       "    .dataframe thead th {\n",
       "        text-align: right;\n",
       "    }\n",
       "</style>\n",
       "<table border=\"1\" class=\"dataframe\">\n",
       "  <thead>\n",
       "    <tr style=\"text-align: right;\">\n",
       "      <th></th>\n",
       "      <th>date</th>\n",
       "      <th>Avg. wind</th>\n",
       "      <th>wind gusts</th>\n",
       "    </tr>\n",
       "  </thead>\n",
       "  <tbody>\n",
       "    <tr>\n",
       "      <th>708</th>\n",
       "      <td>2018-5-31-16-7</td>\n",
       "      <td>15</td>\n",
       "      <td>20</td>\n",
       "    </tr>\n",
       "    <tr>\n",
       "      <th>709</th>\n",
       "      <td>2018-5-31-16-12</td>\n",
       "      <td>16</td>\n",
       "      <td>19</td>\n",
       "    </tr>\n",
       "    <tr>\n",
       "      <th>710</th>\n",
       "      <td>2018-5-31-16-17</td>\n",
       "      <td>13</td>\n",
       "      <td>17</td>\n",
       "    </tr>\n",
       "    <tr>\n",
       "      <th>711</th>\n",
       "      <td>2018-5-31-16-22</td>\n",
       "      <td>12</td>\n",
       "      <td>17</td>\n",
       "    </tr>\n",
       "    <tr>\n",
       "      <th>712</th>\n",
       "      <td>2018-5-31-16-27</td>\n",
       "      <td>13</td>\n",
       "      <td>16</td>\n",
       "    </tr>\n",
       "  </tbody>\n",
       "</table>\n",
       "</div>"
      ],
      "text/plain": [
       "                date  Avg. wind  wind gusts\n",
       "708   2018-5-31-16-7         15          20\n",
       "709  2018-5-31-16-12         16          19\n",
       "710  2018-5-31-16-17         13          17\n",
       "711  2018-5-31-16-22         12          17\n",
       "712  2018-5-31-16-27         13          16"
      ]
     },
     "execution_count": 29,
     "metadata": {},
     "output_type": "execute_result"
    }
   ],
   "source": [
    "wind_data=pd.DataFrame()\n",
    "for path in csv_names:\n",
    "    tabel=pd.read_csv(path,parse_dates=False)#.reset_index(drop=True)\n",
    "    wind_data=pd.concat([wind_data,tabel]).reset_index(drop=True)\n",
    "\n",
    "wind_data.tail()"
   ]
  },
  {
   "cell_type": "markdown",
   "metadata": {},
   "source": [
    "##### Function to get time stamp from the video name"
   ]
  },
  {
   "cell_type": "code",
   "execution_count": 30,
   "metadata": {},
   "outputs": [],
   "source": [
    "def vn_to_time(vn):\n",
    "    return datetime.datetime.strptime(vn.split('/')[-1].split('.')[0], '%Y-%m-%d-%H-%M')"
   ]
  },
  {
   "cell_type": "markdown",
   "metadata": {},
   "source": [
    "##### testing the function"
   ]
  },
  {
   "cell_type": "code",
   "execution_count": 31,
   "metadata": {},
   "outputs": [
    {
     "data": {
      "text/plain": [
       "datetime.datetime(2018, 5, 26, 11, 58)"
      ]
     },
     "execution_count": 31,
     "metadata": {},
     "output_type": "execute_result"
    }
   ],
   "source": [
    "vn_to_time(video_names[0])"
   ]
  },
  {
   "cell_type": "markdown",
   "metadata": {},
   "source": [
    "##### Function that produces the numerical values for given video. It finds two closest in time data points and makes interpolation. It also takes care of some edge cases."
   ]
  },
  {
   "cell_type": "code",
   "execution_count": 32,
   "metadata": {},
   "outputs": [],
   "source": [
    "def wind_for_video(vn,wind_data=wind_data):\n",
    "    vid_time=vn_to_time(vn) #get the timestame for the given video\n",
    "    \n",
    "    wind_data[\"time_diff\"]=wind_data['date'].apply(lambda x: #get the difference between time stamps of video and all datapoints\n",
    "                                                   (datetime.datetime.strptime(x,'%Y-%m-%d-%H-%M')-vid_time).total_seconds())\n",
    "    wind_data['time_dif_abs']=wind_data['time_diff'].apply(abs) #get absolute values of this difference\n",
    "    wd=wind_data.sort_values(['time_dif_abs']).head(2).reset_index(drop=True) #get two closest datapoints\n",
    "    \n",
    "    if wd.empty:  \n",
    "        return None\n",
    "    if wd['time_dif_abs'].min()>500: # edge case when there is no datapoints closer than 500sec. \n",
    "                                     # No data will be produced for such a video\n",
    "        return None\n",
    "    \n",
    "    elif wd['time_dif_abs'].max()>1000: # egde case when only one data point is close to the given video\n",
    "        awind=wd['Avg. wind'].loc[wd['time_dif_abs'].idxmin()]\n",
    "        gwind=wd['wind gusts'].loc[wd['time_dif_abs'].idxmin()]\n",
    "    \n",
    "    dt = wd['time_diff'].loc[1]-wd['time_diff'].loc[0]\n",
    "    if abs(dt)<1:  # Edge case when two closest datapoints almost coinside \n",
    "        awind=(wd['Avg. wind'].loc[0]+wd['Avg. wind'].loc[1])/2\n",
    "        gwind=(wd['wind gusts'].loc[0]+wd['wind gusts'].loc[1])/2\n",
    "    else: # a regular case when there are two points to interpolate\n",
    "        awind=(wd['Avg. wind'].loc[0]*wd['time_diff'].loc[1] - wd['Avg. wind'].loc[1]*wd['time_diff'].loc[0])/dt\n",
    "        gwind=(wd['wind gusts'].loc[0]*wd['time_diff'].loc[1] - wd['wind gusts'].loc[1]*wd['time_diff'].loc[0])/dt\n",
    "    return [awind,gwind]"
   ]
  },
  {
   "cell_type": "markdown",
   "metadata": {},
   "source": [
    "##### testing the function"
   ]
  },
  {
   "cell_type": "code",
   "execution_count": 33,
   "metadata": {},
   "outputs": [
    {
     "data": {
      "text/plain": [
       "[8.0, 10.0]"
      ]
     },
     "execution_count": 33,
     "metadata": {},
     "output_type": "execute_result"
    }
   ],
   "source": [
    "wind_for_video(video_names[0])"
   ]
  },
  {
   "cell_type": "markdown",
   "metadata": {},
   "source": [
    "##### Create a new dataframe with three columns - video path, and two corresponding numerical values as calculated using function above."
   ]
  },
  {
   "cell_type": "code",
   "execution_count": 34,
   "metadata": {},
   "outputs": [],
   "source": [
    "df_wind=pd.DataFrame()\n",
    "for video in video_names:\n",
    "    num_values=wind_for_video(video) \n",
    "    if num_values is None: #if there is no numerical value for the given video available, skip this video\n",
    "        continue\n",
    "    df=pd.DataFrame([[video]+num_values],columns=['video','av.wn.','wn.gs.'])\n",
    "    df_wind=df_wind.append(df)\n",
    "df_wind.reset_index(drop=True,inplace=True)"
   ]
  },
  {
   "cell_type": "code",
   "execution_count": 35,
   "metadata": {},
   "outputs": [],
   "source": [
    "df_wind.to_csv(\"../Data_samples/test data/test_data.csv\",index=False)"
   ]
  },
  {
   "cell_type": "markdown",
   "metadata": {},
   "source": [
    "##### test"
   ]
  },
  {
   "cell_type": "code",
   "execution_count": 36,
   "metadata": {},
   "outputs": [],
   "source": [
    "test_df=pd.read_csv('../Data_samples/test data/test_data.csv')"
   ]
  },
  {
   "cell_type": "code",
   "execution_count": 26,
   "metadata": {},
   "outputs": [
    {
     "data": {
      "text/html": [
       "<div>\n",
       "<style scoped>\n",
       "    .dataframe tbody tr th:only-of-type {\n",
       "        vertical-align: middle;\n",
       "    }\n",
       "\n",
       "    .dataframe tbody tr th {\n",
       "        vertical-align: top;\n",
       "    }\n",
       "\n",
       "    .dataframe thead th {\n",
       "        text-align: right;\n",
       "    }\n",
       "</style>\n",
       "<table border=\"1\" class=\"dataframe\">\n",
       "  <thead>\n",
       "    <tr style=\"text-align: right;\">\n",
       "      <th></th>\n",
       "      <th>video</th>\n",
       "      <th>av.wn.</th>\n",
       "      <th>wn.gs.</th>\n",
       "    </tr>\n",
       "  </thead>\n",
       "  <tbody>\n",
       "    <tr>\n",
       "      <th>0</th>\n",
       "      <td>../Data_samples/test data/2018-05-26-11-58.flv</td>\n",
       "      <td>8.0</td>\n",
       "      <td>10.0</td>\n",
       "    </tr>\n",
       "    <tr>\n",
       "      <th>1</th>\n",
       "      <td>../Data_samples/test data/2018-05-26-12-14.flv</td>\n",
       "      <td>10.0</td>\n",
       "      <td>12.0</td>\n",
       "    </tr>\n",
       "    <tr>\n",
       "      <th>2</th>\n",
       "      <td>../Data_samples/test data/2018-05-26-12-20.flv</td>\n",
       "      <td>10.0</td>\n",
       "      <td>12.0</td>\n",
       "    </tr>\n",
       "    <tr>\n",
       "      <th>3</th>\n",
       "      <td>../Data_samples/test data/2018-05-26-12-4.flv</td>\n",
       "      <td>8.2</td>\n",
       "      <td>11.0</td>\n",
       "    </tr>\n",
       "    <tr>\n",
       "      <th>4</th>\n",
       "      <td>../Data_samples/test data/2018-05-26-12-9.flv</td>\n",
       "      <td>9.2</td>\n",
       "      <td>11.2</td>\n",
       "    </tr>\n",
       "  </tbody>\n",
       "</table>\n",
       "</div>"
      ],
      "text/plain": [
       "                                            video  av.wn.  wn.gs.\n",
       "0  ../Data_samples/test data/2018-05-26-11-58.flv     8.0    10.0\n",
       "1  ../Data_samples/test data/2018-05-26-12-14.flv    10.0    12.0\n",
       "2  ../Data_samples/test data/2018-05-26-12-20.flv    10.0    12.0\n",
       "3   ../Data_samples/test data/2018-05-26-12-4.flv     8.2    11.0\n",
       "4   ../Data_samples/test data/2018-05-26-12-9.flv     9.2    11.2"
      ]
     },
     "execution_count": 26,
     "metadata": {},
     "output_type": "execute_result"
    }
   ],
   "source": [
    "test_df"
   ]
  }
 ],
 "metadata": {
  "kernelspec": {
   "display_name": "Python 3",
   "language": "python",
   "name": "python3"
  },
  "language_info": {
   "codemirror_mode": {
    "name": "ipython",
    "version": 3
   },
   "file_extension": ".py",
   "mimetype": "text/x-python",
   "name": "python",
   "nbconvert_exporter": "python",
   "pygments_lexer": "ipython3",
   "version": "3.6.6"
  }
 },
 "nbformat": 4,
 "nbformat_minor": 2
}
