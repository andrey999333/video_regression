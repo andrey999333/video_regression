{
 "cells": [
  {
   "cell_type": "markdown",
   "metadata": {},
   "source": [
    "#### This script generates tfrecords files from the jpg frames and the table of numerical data in csv files. It also calculates the weights for the loss function depending on number of samples in the dataset. Samples that are more represented in the dataset get lower weights then less represented."
   ]
  },
  {
   "cell_type": "code",
   "execution_count": 1,
   "metadata": {},
   "outputs": [],
   "source": [
    "#%%writefile create_tf_dataset.py\n",
    "import tensorflow as tf\n",
    "import pandas as pd\n",
    "import numpy as np\n",
    "import os\n",
    "from random import shuffle\n",
    "import matplotlib.pyplot as plt\n",
    "import math\n",
    "%matplotlib inline"
   ]
  },
  {
   "cell_type": "markdown",
   "metadata": {},
   "source": [
    "#### This cell constructs the list of all videonames from corresponding directories names in the dir \"../frames/\". After that, it creates a dictionary containing video names as a keys and list of frame names in chronological order from the video as a values"
   ]
  },
  {
   "cell_type": "code",
   "execution_count": 2,
   "metadata": {},
   "outputs": [],
   "source": [
    "train_data_dir='../Data_samples/train data/frames/'\n",
    "video_names=list(os.walk(train_data_dir))[0][1]\n",
    "\n",
    "def frames_order(frame):\n",
    "    return int(''.join(list(filter(str.isdigit, frame))))\n",
    "\n",
    "framenames = {video_name: \n",
    "                  sorted([frame for frame in os.listdir(train_data_dir+video_name) if frame.endswith('jpg')],key=frames_order)\n",
    "                  for video_name in video_names}\n"
   ]
  },
  {
   "cell_type": "markdown",
   "metadata": {},
   "source": [
    "#### this cell shuffles frames inside of each list corresponding to one video. Chronological order of frames might be necessary later for analysing the video sequences. If only static pictures are analysed shuffled order is prefered."
   ]
  },
  {
   "cell_type": "code",
   "execution_count": 3,
   "metadata": {},
   "outputs": [],
   "source": [
    "for vn in video_names:\n",
    "    shuffle(framenames[vn])"
   ]
  },
  {
   "cell_type": "markdown",
   "metadata": {},
   "source": [
    "#### this cell creates dataframe of labels from csv files. The names of the videos are indecies in this DF."
   ]
  },
  {
   "cell_type": "code",
   "execution_count": 4,
   "metadata": {},
   "outputs": [],
   "source": [
    "dfs=[pd.read_csv(filepath_or_buffer = train_data_dir+name,index_col=0) for name in os.listdir(train_data_dir) if name.endswith('csv')]\n",
    "labels_df=pd.concat(dfs)"
   ]
  },
  {
   "cell_type": "code",
   "execution_count": 5,
   "metadata": {},
   "outputs": [
    {
     "data": {
      "text/html": [
       "<div>\n",
       "<style scoped>\n",
       "    .dataframe tbody tr th:only-of-type {\n",
       "        vertical-align: middle;\n",
       "    }\n",
       "\n",
       "    .dataframe tbody tr th {\n",
       "        vertical-align: top;\n",
       "    }\n",
       "\n",
       "    .dataframe thead th {\n",
       "        text-align: right;\n",
       "    }\n",
       "</style>\n",
       "<table border=\"1\" class=\"dataframe\">\n",
       "  <thead>\n",
       "    <tr style=\"text-align: right;\">\n",
       "      <th></th>\n",
       "      <th>avg. wind</th>\n",
       "      <th>wind gust</th>\n",
       "    </tr>\n",
       "  </thead>\n",
       "  <tbody>\n",
       "    <tr>\n",
       "      <th>video_ion0</th>\n",
       "      <td>14.2</td>\n",
       "      <td>18.2</td>\n",
       "    </tr>\n",
       "    <tr>\n",
       "      <th>video_ion1</th>\n",
       "      <td>14.2</td>\n",
       "      <td>17.8</td>\n",
       "    </tr>\n",
       "    <tr>\n",
       "      <th>video_ion2</th>\n",
       "      <td>14.8</td>\n",
       "      <td>19.0</td>\n",
       "    </tr>\n",
       "    <tr>\n",
       "      <th>video_ion3</th>\n",
       "      <td>13.4</td>\n",
       "      <td>19.0</td>\n",
       "    </tr>\n",
       "    <tr>\n",
       "      <th>video_ion4</th>\n",
       "      <td>13.4</td>\n",
       "      <td>18.4</td>\n",
       "    </tr>\n",
       "    <tr>\n",
       "      <th>video_tg5</th>\n",
       "      <td>14.2</td>\n",
       "      <td>18.2</td>\n",
       "    </tr>\n",
       "    <tr>\n",
       "      <th>video_tg6</th>\n",
       "      <td>14.2</td>\n",
       "      <td>17.8</td>\n",
       "    </tr>\n",
       "    <tr>\n",
       "      <th>video_tg7</th>\n",
       "      <td>14.8</td>\n",
       "      <td>19.0</td>\n",
       "    </tr>\n",
       "    <tr>\n",
       "      <th>video_tg8</th>\n",
       "      <td>13.4</td>\n",
       "      <td>19.0</td>\n",
       "    </tr>\n",
       "    <tr>\n",
       "      <th>video_tg9</th>\n",
       "      <td>13.4</td>\n",
       "      <td>18.4</td>\n",
       "    </tr>\n",
       "  </tbody>\n",
       "</table>\n",
       "</div>"
      ],
      "text/plain": [
       "            avg. wind  wind gust\n",
       "video_ion0       14.2       18.2\n",
       "video_ion1       14.2       17.8\n",
       "video_ion2       14.8       19.0\n",
       "video_ion3       13.4       19.0\n",
       "video_ion4       13.4       18.4\n",
       "video_tg5        14.2       18.2\n",
       "video_tg6        14.2       17.8\n",
       "video_tg7        14.8       19.0\n",
       "video_tg8        13.4       19.0\n",
       "video_tg9        13.4       18.4"
      ]
     },
     "execution_count": 5,
     "metadata": {},
     "output_type": "execute_result"
    }
   ],
   "source": [
    "labels_df"
   ]
  },
  {
   "cell_type": "markdown",
   "metadata": {},
   "source": [
    "#### Following two cells add weights for every label. These weights are used to balance the unbalanced dataset in both average wind and wind gust, two weights per sample. The whole range of all possible values is devided into the bins. The weigts are proportional to 1/n, where n is number of samples with value w_(i) < w < w_(i+1). The w_i and w_i+1 are the boundaries of the bin number i. In this way the more samples we have for particular bin the less is the contribution of this sample into loss function."
   ]
  },
  {
   "cell_type": "code",
   "execution_count": 6,
   "metadata": {},
   "outputs": [],
   "source": [
    "top_avg=math.ceil(labels_df['avg. wind'].max()) #ceiling value for avg.wing\n",
    "labels=[i+1 for i in range(top_avg)] #labels for binns \n",
    "binned1 = pd.cut(labels_df['avg. wind'],range(1+top_avg),labels=labels) #creating the binned series from the avg.wind values\n",
    "labels_df['w1'] = [1./binned1.value_counts()[i] for i in binned1]  #calculating the weights as 1/n. Where n is number of samples in a given bin\n",
    "labels_df['w1'] = labels_df['w1']/labels_df['w1'].mean() #normalizing weights such that summ of w_i = 1."
   ]
  },
  {
   "cell_type": "markdown",
   "metadata": {
    "collapsed": true
   },
   "source": [
    "##### same as previous cell but for wind.gust values"
   ]
  },
  {
   "cell_type": "code",
   "execution_count": 7,
   "metadata": {},
   "outputs": [],
   "source": [
    "top_gust = math.ceil(labels_df['wind gust'].max())\n",
    "labels=[i+1 for i in range(top_gust)]\n",
    "binned2 = pd.cut(labels_df['wind gust'],range(1+top_gust),labels=labels)\n",
    "labels_df['w2'] = [1./binned2.value_counts()[i] for i in binned2]\n",
    "labels_df['w2'] = labels_df['w2']/labels_df['w2'].mean()"
   ]
  },
  {
   "cell_type": "code",
   "execution_count": 8,
   "metadata": {},
   "outputs": [
    {
     "data": {
      "text/html": [
       "<div>\n",
       "<style scoped>\n",
       "    .dataframe tbody tr th:only-of-type {\n",
       "        vertical-align: middle;\n",
       "    }\n",
       "\n",
       "    .dataframe tbody tr th {\n",
       "        vertical-align: top;\n",
       "    }\n",
       "\n",
       "    .dataframe thead th {\n",
       "        text-align: right;\n",
       "    }\n",
       "</style>\n",
       "<table border=\"1\" class=\"dataframe\">\n",
       "  <thead>\n",
       "    <tr style=\"text-align: right;\">\n",
       "      <th></th>\n",
       "      <th>avg. wind</th>\n",
       "      <th>wind gust</th>\n",
       "      <th>w1</th>\n",
       "      <th>w2</th>\n",
       "    </tr>\n",
       "  </thead>\n",
       "  <tbody>\n",
       "    <tr>\n",
       "      <th>video_ion0</th>\n",
       "      <td>14.2</td>\n",
       "      <td>18.2</td>\n",
       "      <td>0.833333</td>\n",
       "      <td>0.625</td>\n",
       "    </tr>\n",
       "    <tr>\n",
       "      <th>video_ion1</th>\n",
       "      <td>14.2</td>\n",
       "      <td>17.8</td>\n",
       "      <td>0.833333</td>\n",
       "      <td>2.500</td>\n",
       "    </tr>\n",
       "    <tr>\n",
       "      <th>video_ion2</th>\n",
       "      <td>14.8</td>\n",
       "      <td>19.0</td>\n",
       "      <td>0.833333</td>\n",
       "      <td>0.625</td>\n",
       "    </tr>\n",
       "    <tr>\n",
       "      <th>video_ion3</th>\n",
       "      <td>13.4</td>\n",
       "      <td>19.0</td>\n",
       "      <td>1.250000</td>\n",
       "      <td>0.625</td>\n",
       "    </tr>\n",
       "    <tr>\n",
       "      <th>video_ion4</th>\n",
       "      <td>13.4</td>\n",
       "      <td>18.4</td>\n",
       "      <td>1.250000</td>\n",
       "      <td>0.625</td>\n",
       "    </tr>\n",
       "    <tr>\n",
       "      <th>video_tg5</th>\n",
       "      <td>14.2</td>\n",
       "      <td>18.2</td>\n",
       "      <td>0.833333</td>\n",
       "      <td>0.625</td>\n",
       "    </tr>\n",
       "    <tr>\n",
       "      <th>video_tg6</th>\n",
       "      <td>14.2</td>\n",
       "      <td>17.8</td>\n",
       "      <td>0.833333</td>\n",
       "      <td>2.500</td>\n",
       "    </tr>\n",
       "    <tr>\n",
       "      <th>video_tg7</th>\n",
       "      <td>14.8</td>\n",
       "      <td>19.0</td>\n",
       "      <td>0.833333</td>\n",
       "      <td>0.625</td>\n",
       "    </tr>\n",
       "    <tr>\n",
       "      <th>video_tg8</th>\n",
       "      <td>13.4</td>\n",
       "      <td>19.0</td>\n",
       "      <td>1.250000</td>\n",
       "      <td>0.625</td>\n",
       "    </tr>\n",
       "    <tr>\n",
       "      <th>video_tg9</th>\n",
       "      <td>13.4</td>\n",
       "      <td>18.4</td>\n",
       "      <td>1.250000</td>\n",
       "      <td>0.625</td>\n",
       "    </tr>\n",
       "  </tbody>\n",
       "</table>\n",
       "</div>"
      ],
      "text/plain": [
       "            avg. wind  wind gust        w1     w2\n",
       "video_ion0       14.2       18.2  0.833333  0.625\n",
       "video_ion1       14.2       17.8  0.833333  2.500\n",
       "video_ion2       14.8       19.0  0.833333  0.625\n",
       "video_ion3       13.4       19.0  1.250000  0.625\n",
       "video_ion4       13.4       18.4  1.250000  0.625\n",
       "video_tg5        14.2       18.2  0.833333  0.625\n",
       "video_tg6        14.2       17.8  0.833333  2.500\n",
       "video_tg7        14.8       19.0  0.833333  0.625\n",
       "video_tg8        13.4       19.0  1.250000  0.625\n",
       "video_tg9        13.4       18.4  1.250000  0.625"
      ]
     },
     "execution_count": 8,
     "metadata": {},
     "output_type": "execute_result"
    }
   ],
   "source": [
    "labels_df"
   ]
  },
  {
   "cell_type": "markdown",
   "metadata": {},
   "source": [
    "#### Auxilary functions for writing values into tfrecord files. They create features of different types from the values"
   ]
  },
  {
   "cell_type": "code",
   "execution_count": 9,
   "metadata": {},
   "outputs": [],
   "source": [
    "def _int64_feature(value):\n",
    "    return tf.train.Feature(int64_list=tf.train.Int64List(value=value))\n",
    "\n",
    "def _float64_feature(value):\n",
    "    return tf.train.Feature(float_list=tf.train.FloatList(value=value))\n",
    "\n",
    "def _bytes_feature(value):\n",
    "    return tf.train.Feature(bytes_list=tf.train.BytesList(value=[value]))"
   ]
  },
  {
   "cell_type": "markdown",
   "metadata": {},
   "source": [
    "#### This cell writes datasets into tfrecord files. Each file contains a set of samples, one per video. Each sample contains 1) one random frame from this video in jpg encoding, written as a byte string, 2) label - a np.array of two float64 numbers 3)weights - "
   ]
  },
  {
   "cell_type": "code",
   "execution_count": 10,
   "metadata": {},
   "outputs": [],
   "source": [
    "tfrecord_dir = '../Data_samples/train data/tfrecords'\n",
    "try: \n",
    "    os.mkdir(tfrecord_dir)\n",
    "except FileExistsError:\n",
    "    pass\n",
    "\n",
    "filename = tfrecord_dir + '/train{}.tfrecords'  # address to save the TFRecords file\n",
    "data_dict = framenames\n",
    "\n",
    "n_imgs = len(list(data_dict.values())[0])\n",
    " # open the TFRecords file\n",
    "\n",
    "for i in range(n_imgs):\n",
    "    \n",
    "    writer = tf.python_io.TFRecordWriter(filename.format(i))\n",
    "    \n",
    "    for vn in video_names:\n",
    "        \n",
    "        with open(train_data_dir+vn+'/'+data_dict[vn][i],'rb') as file:\n",
    "            img=file.read()\n",
    "        label = np.array(labels_df.loc[vn])\n",
    "        # Create a feature\n",
    "        feature = {'train/label': _float64_feature(label),\n",
    "                   'train/name' : _bytes_feature(tf.compat.as_bytes(vn)),\n",
    "                   'train/image': _bytes_feature(tf.compat.as_bytes(img))}\n",
    "        # Create an example protocol buffer\n",
    "        example = tf.train.Example(features=tf.train.Features(feature=feature))\n",
    "\n",
    "        # Serialize to string and write on the file\n",
    "        writer.write(example.SerializeToString())\n",
    "    writer.close()"
   ]
  },
  {
   "cell_type": "markdown",
   "metadata": {},
   "source": [
    "## Testing if data can be read from the tfrecords files"
   ]
  },
  {
   "cell_type": "markdown",
   "metadata": {},
   "source": [
    "##### This cell contains parsing function to decode serialized samples read from tfrecord file. It returns tuple of tf.tensors of 1) image in format (width,height,color_chanel), 2)label - array of two numbers and 3) name of the video as a string type"
   ]
  },
  {
   "cell_type": "code",
   "execution_count": 11,
   "metadata": {},
   "outputs": [],
   "source": [
    "def _parse_function(example_proto):\n",
    "    feature = {'train/image': tf.FixedLenFeature((), tf.string),\n",
    "               'train/name': tf.FixedLenFeature((), tf.string),\n",
    "               'train/label': tf.FixedLenFeature((4,), tf.float32)}\n",
    "    parsed_features = tf.parse_single_example(example_proto, features=feature)\n",
    "    image = tf.image.decode_jpeg(parsed_features['train/image'])\n",
    "    #image = tf.reshape(image, [576, 704, 3])\n",
    "    label = parsed_features['train/label'][0:2]\n",
    "    weights  = parsed_features['train/label'][2:]\n",
    "    #shape = tf.shape(image)\n",
    "    return image, label, weights #, shape"
   ]
  },
  {
   "cell_type": "markdown",
   "metadata": {},
   "source": [
    "### this cell create dataset from the list of tfrecord files"
   ]
  },
  {
   "cell_type": "code",
   "execution_count": 19,
   "metadata": {},
   "outputs": [],
   "source": [
    "filenames = [root+'/'+file for root, _, files in os.walk(tfrecord_dir) for file in files if file.endswith('tfrecords')]"
   ]
  },
  {
   "cell_type": "code",
   "execution_count": 20,
   "metadata": {},
   "outputs": [
    {
     "data": {
      "text/plain": [
       "['../Data_samples/train data/tfrecords/train0.tfrecords',\n",
       " '../Data_samples/train data/tfrecords/train1.tfrecords',\n",
       " '../Data_samples/train data/tfrecords/train2.tfrecords',\n",
       " '../Data_samples/train data/tfrecords/train3.tfrecords',\n",
       " '../Data_samples/train data/tfrecords/train4.tfrecords',\n",
       " '../Data_samples/train data/tfrecords/train5.tfrecords',\n",
       " '../Data_samples/train data/tfrecords/train6.tfrecords',\n",
       " '../Data_samples/train data/tfrecords/train7.tfrecords',\n",
       " '../Data_samples/train data/tfrecords/train8.tfrecords',\n",
       " '../Data_samples/train data/tfrecords/train9.tfrecords']"
      ]
     },
     "execution_count": 20,
     "metadata": {},
     "output_type": "execute_result"
    }
   ],
   "source": [
    "filenames"
   ]
  },
  {
   "cell_type": "code",
   "execution_count": 21,
   "metadata": {},
   "outputs": [],
   "source": [
    "dataset = tf.data.TFRecordDataset(filenames)\n",
    "dataset = dataset.map(_parse_function)"
   ]
  },
  {
   "cell_type": "markdown",
   "metadata": {},
   "source": [
    "### This cell create iterator to deliver data into graph for training"
   ]
  },
  {
   "cell_type": "code",
   "execution_count": 22,
   "metadata": {},
   "outputs": [],
   "source": [
    "dataset = dataset.repeat(3)\n",
    "dataset = dataset.batch(3)\n",
    "iterator = dataset.make_one_shot_iterator()\n",
    "next_element = iterator.get_next()\n"
   ]
  },
  {
   "cell_type": "markdown",
   "metadata": {},
   "source": [
    "### Below are the test to see if data in dataset can be read and processed correctly"
   ]
  },
  {
   "cell_type": "code",
   "execution_count": 23,
   "metadata": {},
   "outputs": [],
   "source": [
    "sess=tf.InteractiveSession()"
   ]
  },
  {
   "cell_type": "code",
   "execution_count": 24,
   "metadata": {},
   "outputs": [
    {
     "name": "stdout",
     "output_type": "stream",
     "text": [
      "[[14.2 18.2]\n",
      " [14.2 17.8]\n",
      " [14.8 19. ]] [[0.8333333 0.625    ]\n",
      " [0.8333333 2.5      ]\n",
      " [0.8333333 0.625    ]]\n"
     ]
    },
    {
     "data": {
      "text/plain": [
       "<matplotlib.image.AxesImage at 0x23869c49940>"
      ]
     },
     "execution_count": 24,
     "metadata": {},
     "output_type": "execute_result"
    },
    {
     "data": {
      "image/png": "[encoded data removed]",
      "text/plain": [
       "<Figure size 432x288 with 1 Axes>"
      ]
     },
     "metadata": {
      "needs_background": "light"
     },
     "output_type": "display_data"
    }
   ],
   "source": [
    "frame,labels,weights = sess.run(next_element)\n",
    "\n",
    "print(labels,weights)\n",
    "plt.imshow(frame[2,:,:,:])"
   ]
  },
  {
   "cell_type": "code",
   "execution_count": 25,
   "metadata": {},
   "outputs": [
    {
     "data": {
      "text/plain": [
       "(3, 450, 800, 3)"
      ]
     },
     "execution_count": 25,
     "metadata": {},
     "output_type": "execute_result"
    }
   ],
   "source": [
    "frame.shape"
   ]
  },
  {
   "cell_type": "code",
   "execution_count": null,
   "metadata": {
    "collapsed": true
   },
   "outputs": [],
   "source": []
  }
 ],
 "metadata": {
  "kernelspec": {
   "display_name": "Python 3",
   "language": "python",
   "name": "python3"
  },
  "language_info": {
   "codemirror_mode": {
    "name": "ipython",
    "version": 3
   },
   "file_extension": ".py",
   "mimetype": "text/x-python",
   "name": "python",
   "nbconvert_exporter": "python",
   "pygments_lexer": "ipython3",
   "version": "3.6.6"
  }
 },
 "nbformat": 4,
 "nbformat_minor": 2
}
