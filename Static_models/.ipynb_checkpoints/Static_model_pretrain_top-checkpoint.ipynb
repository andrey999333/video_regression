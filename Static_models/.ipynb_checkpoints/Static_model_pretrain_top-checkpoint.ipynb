{
 "cells": [
  {
   "cell_type": "markdown",
   "metadata": {},
   "source": [
    "##### In this notebook the model is created and trained for analysing individual frames of the the video independantly. The MobileNetV2 model is used as a convolutional base to extract features. On this stage this convolutional base is frozen and the only layers are trained that are added on top of it."
   ]
  },
  {
   "cell_type": "code",
   "execution_count": 1,
   "metadata": {},
   "outputs": [
    {
     "name": "stderr",
     "output_type": "stream",
     "text": [
      "Using TensorFlow backend.\n"
     ]
    }
   ],
   "source": [
    "import tensorflow as tf\n",
    "from keras.preprocessing.image import load_img\n",
    "import pandas as pd\n",
    "import numpy as np\n",
    "import os\n",
    "from random import shuffle\n",
    "import matplotlib.pyplot as plt\n",
    "from tqdm import tqdm\n",
    "import keras\n",
    "from keras.applications import MobileNetV2\n",
    "from keras.models import Model,load_model\n",
    "from keras.layers import *\n",
    "import keras.backend as K\n",
    "%matplotlib inline"
   ]
  },
  {
   "cell_type": "markdown",
   "metadata": {},
   "source": [
    "##### To use tf.data API, a tensorflow session should be defined explicidly to run initializer of the data iterator"
   ]
  },
  {
   "cell_type": "code",
   "execution_count": 2,
   "metadata": {},
   "outputs": [],
   "source": [
    "sess=tf.Session()\n",
    "K.set_session(sess)"
   ]
  },
  {
   "cell_type": "markdown",
   "metadata": {},
   "source": [
    "##### This cell contains parsing function to decode serialized samples read from tfrecords files. It returns tuple of tf.tensors of 1) image in format (width,height,color_chanel), 2)label - array of two numbers and 3) the weights to be used in loss function to take into account unbalanced dataset. They are stored in to last two columns of the feature 'train/label' "
   ]
  },
  {
   "cell_type": "code",
   "execution_count": 3,
   "metadata": {},
   "outputs": [],
   "source": [
    "def _parse_function(example_proto):\n",
    "    feature = {'train/image': tf.FixedLenFeature((), tf.string),\n",
    "               #'train/name': tf.FixedLenFeature((), tf.string),\n",
    "               'train/label': tf.FixedLenFeature((4,), tf.float32)}\n",
    "    \n",
    "    parsed_features = tf.parse_single_example(example_proto, features=feature)\n",
    "    \n",
    "    image = tf.cast(tf.image.decode_jpeg(parsed_features['train/image']),dtype=tf.float32)/255.\n",
    "    image = image[:448,:704,:]#crop the images from different cameras to make them of the same size \n",
    "    \n",
    "    labels = parsed_features['train/label'][0:2]\n",
    "    \n",
    "    weights  = parsed_features['train/label'][2:]\n",
    "   \n",
    "    return image, labels, weights"
   ]
  },
  {
   "cell_type": "markdown",
   "metadata": {},
   "source": [
    "##### Load model which makes out the convolution base. This conv base is fcn and accepts arbitrary image sizes "
   ]
  },
  {
   "cell_type": "code",
   "execution_count": 4,
   "metadata": {},
   "outputs": [
    {
     "name": "stderr",
     "output_type": "stream",
     "text": [
      "C:\\Users\\ttnnn\\Anaconda3\\lib\\site-packages\\keras_applications\\mobilenet_v2.py:310: UserWarning: MobileNet shape is undefined. Weights for input shape(224, 224) will be loaded.\n",
      "  warnings.warn('MobileNet shape is undefined.'\n"
     ]
    }
   ],
   "source": [
    "mobinet=MobileNetV2(include_top=False) #any fcn model can be used here instead of MobileNetV2 "
   ]
  },
  {
   "cell_type": "markdown",
   "metadata": {},
   "source": [
    "##### Difining Iterator to feed data into model as tf tensor"
   ]
  },
  {
   "cell_type": "code",
   "execution_count": 5,
   "metadata": {},
   "outputs": [],
   "source": [
    "#the filenames of the dataset \n",
    "tfrecord_dir = '../Data_samples/train data/tfrecords'\n",
    "filenames = [root+'/'+file for root, _, files in os.walk(tfrecord_dir) for file in files if file.endswith('tfrecords')]\n",
    "batch_size=4\n",
    "\n",
    "#creating a dataset\n",
    "dataset = tf.data.TFRecordDataset(filenames)\n",
    "dataset = dataset.map(_parse_function)\n",
    "dataset = dataset.repeat(100)\n",
    "dataset = dataset.batch(batch_size)\n",
    "iterator = dataset.make_initializable_iterator()\n",
    "next_element = iterator.get_next()\n",
    "\n",
    "# creating the generator to feed data for training\n",
    "\n",
    "def batch_generator(dataset):\n",
    "    sess.run(iterator.initializer)\n",
    "    while True:\n",
    "        inputs, labels, weights = sess.run(next_element)\n",
    "        features=mobinet.predict_on_batch(inputs)\n",
    "        yield ([features, labels, weights],np.zeros((batch_size,))) # np.zeros are used as a dummy labels, since real labels\n",
    "                                                                        # will be fed alongside with the sample \n",
    "            \n",
    "gen=batch_generator(dataset)"
   ]
  },
  {
   "cell_type": "markdown",
   "metadata": {},
   "source": [
    "##### Testing the generator"
   ]
  },
  {
   "cell_type": "code",
   "execution_count": 6,
   "metadata": {},
   "outputs": [
    {
     "data": {
      "text/plain": [
       "([array([[[[2.4537668 , 0.        , 0.        , ..., 0.        ,\n",
       "            0.        , 0.        ],\n",
       "           [4.349057  , 0.        , 0.        , ..., 0.        ,\n",
       "            0.        , 0.8313675 ],\n",
       "           [4.85713   , 0.        , 0.        , ..., 0.        ,\n",
       "            0.        , 0.        ],\n",
       "           ...,\n",
       "           [0.        , 0.        , 0.        , ..., 0.        ,\n",
       "            0.        , 0.        ],\n",
       "           [0.        , 0.        , 0.        , ..., 0.        ,\n",
       "            0.        , 0.        ],\n",
       "           [0.        , 0.        , 0.        , ..., 0.        ,\n",
       "            0.        , 0.        ]],\n",
       "  \n",
       "          [[4.714588  , 0.        , 0.        , ..., 0.        ,\n",
       "            0.        , 0.        ],\n",
       "           [6.        , 0.        , 0.        , ..., 0.        ,\n",
       "            0.        , 0.82178545],\n",
       "           [4.7617464 , 0.        , 0.        , ..., 0.        ,\n",
       "            0.        , 0.        ],\n",
       "           ...,\n",
       "           [0.        , 0.        , 0.        , ..., 0.        ,\n",
       "            0.        , 0.        ],\n",
       "           [0.        , 0.        , 0.        , ..., 0.        ,\n",
       "            0.        , 0.        ],\n",
       "           [0.        , 0.        , 0.        , ..., 0.        ,\n",
       "            0.        , 0.        ]],\n",
       "  \n",
       "          [[1.9646173 , 0.        , 0.        , ..., 0.        ,\n",
       "            0.        , 0.        ],\n",
       "           [3.3943272 , 0.        , 0.        , ..., 0.        ,\n",
       "            0.        , 0.        ],\n",
       "           [2.9626942 , 0.        , 0.        , ..., 0.        ,\n",
       "            0.        , 0.        ],\n",
       "           ...,\n",
       "           [0.        , 0.        , 0.        , ..., 0.        ,\n",
       "            0.        , 0.        ],\n",
       "           [2.027318  , 0.        , 0.        , ..., 0.        ,\n",
       "            0.7024379 , 0.62057114],\n",
       "           [0.        , 0.        , 0.        , ..., 0.        ,\n",
       "            0.        , 0.62059927]],\n",
       "  \n",
       "          ...,\n",
       "  \n",
       "          [[0.        , 3.3454423 , 0.        , ..., 0.        ,\n",
       "            0.        , 0.        ],\n",
       "           [0.        , 3.786471  , 0.        , ..., 0.        ,\n",
       "            0.        , 0.        ],\n",
       "           [0.        , 3.4318242 , 0.        , ..., 0.        ,\n",
       "            0.        , 0.        ],\n",
       "           ...,\n",
       "           [2.7768521 , 0.        , 0.        , ..., 0.        ,\n",
       "            0.        , 1.0954013 ],\n",
       "           [0.48699617, 0.        , 0.        , ..., 0.        ,\n",
       "            0.        , 0.8673587 ],\n",
       "           [0.        , 0.        , 0.        , ..., 0.        ,\n",
       "            0.        , 0.        ]],\n",
       "  \n",
       "          [[0.        , 0.7790232 , 0.        , ..., 0.        ,\n",
       "            0.        , 0.        ],\n",
       "           [0.        , 0.        , 0.        , ..., 0.        ,\n",
       "            0.        , 0.        ],\n",
       "           [0.        , 0.53714037, 0.        , ..., 0.        ,\n",
       "            0.        , 0.        ],\n",
       "           ...,\n",
       "           [0.        , 0.        , 0.        , ..., 0.        ,\n",
       "            0.        , 0.        ],\n",
       "           [0.        , 0.        , 0.        , ..., 0.        ,\n",
       "            0.        , 0.        ],\n",
       "           [0.        , 0.        , 0.        , ..., 0.        ,\n",
       "            0.        , 0.        ]],\n",
       "  \n",
       "          [[0.        , 1.3545847 , 0.        , ..., 0.        ,\n",
       "            0.        , 0.        ],\n",
       "           [0.        , 1.5069203 , 0.        , ..., 0.        ,\n",
       "            0.        , 0.        ],\n",
       "           [0.        , 1.5680356 , 0.        , ..., 0.        ,\n",
       "            0.        , 0.        ],\n",
       "           ...,\n",
       "           [0.        , 0.        , 0.        , ..., 0.        ,\n",
       "            0.        , 0.        ],\n",
       "           [0.        , 0.        , 0.        , ..., 0.        ,\n",
       "            0.        , 0.        ],\n",
       "           [0.        , 0.        , 0.        , ..., 0.        ,\n",
       "            0.        , 0.        ]]],\n",
       "  \n",
       "  \n",
       "         [[[0.920856  , 0.4075079 , 0.        , ..., 0.        ,\n",
       "            0.        , 0.        ],\n",
       "           [3.541356  , 0.        , 0.        , ..., 0.        ,\n",
       "            0.        , 1.0039144 ],\n",
       "           [3.490427  , 0.        , 0.        , ..., 0.        ,\n",
       "            0.        , 0.        ],\n",
       "           ...,\n",
       "           [0.        , 0.        , 0.        , ..., 0.        ,\n",
       "            0.        , 0.        ],\n",
       "           [0.        , 0.        , 0.        , ..., 0.        ,\n",
       "            0.        , 0.        ],\n",
       "           [0.        , 0.        , 0.        , ..., 0.        ,\n",
       "            0.        , 0.        ]],\n",
       "  \n",
       "          [[4.444786  , 0.80627346, 0.        , ..., 0.        ,\n",
       "            0.        , 0.47763586],\n",
       "           [6.        , 2.0896792 , 0.        , ..., 0.        ,\n",
       "            3.118939  , 1.8429799 ],\n",
       "           [5.9241657 , 2.192391  , 0.        , ..., 0.        ,\n",
       "            3.0101647 , 0.        ],\n",
       "           ...,\n",
       "           [0.        , 0.        , 0.        , ..., 0.        ,\n",
       "            0.        , 0.        ],\n",
       "           [0.        , 0.        , 0.        , ..., 0.        ,\n",
       "            0.        , 0.        ],\n",
       "           [0.        , 0.        , 0.        , ..., 0.        ,\n",
       "            0.        , 0.        ]],\n",
       "  \n",
       "          [[4.4097204 , 2.8805642 , 0.        , ..., 0.        ,\n",
       "            0.2206788 , 0.38776636],\n",
       "           [6.        , 4.572394  , 0.        , ..., 0.        ,\n",
       "            4.547151  , 0.        ],\n",
       "           [6.        , 2.3845205 , 0.        , ..., 0.        ,\n",
       "            1.726171  , 0.        ],\n",
       "           ...,\n",
       "           [1.8645911 , 0.        , 0.        , ..., 0.        ,\n",
       "            0.        , 0.5531392 ],\n",
       "           [0.        , 0.        , 0.        , ..., 0.        ,\n",
       "            0.        , 1.4112964 ],\n",
       "           [0.        , 0.        , 0.        , ..., 0.        ,\n",
       "            0.        , 0.5651474 ]],\n",
       "  \n",
       "          ...,\n",
       "  \n",
       "          [[0.        , 0.        , 0.        , ..., 0.        ,\n",
       "            0.        , 0.        ],\n",
       "           [3.5288343 , 0.40604258, 0.        , ..., 0.        ,\n",
       "            1.607759  , 0.        ],\n",
       "           [3.824479  , 0.8273916 , 0.        , ..., 0.        ,\n",
       "            0.        , 0.        ],\n",
       "           ...,\n",
       "           [1.3648391 , 4.3833966 , 0.        , ..., 0.        ,\n",
       "            0.        , 0.        ],\n",
       "           [0.512867  , 0.6724262 , 0.17993307, ..., 0.        ,\n",
       "            0.        , 0.        ],\n",
       "           [0.        , 0.        , 0.        , ..., 0.        ,\n",
       "            0.        , 0.        ]],\n",
       "  \n",
       "          [[0.        , 0.        , 0.        , ..., 0.        ,\n",
       "            0.        , 0.        ],\n",
       "           [0.        , 0.        , 0.        , ..., 0.        ,\n",
       "            0.09964895, 0.        ],\n",
       "           [0.        , 0.        , 0.        , ..., 0.        ,\n",
       "            0.        , 0.        ],\n",
       "           ...,\n",
       "           [0.        , 1.5806427 , 0.        , ..., 0.        ,\n",
       "            0.        , 0.        ],\n",
       "           [0.        , 0.        , 0.        , ..., 0.        ,\n",
       "            0.        , 0.        ],\n",
       "           [0.        , 0.        , 0.        , ..., 0.        ,\n",
       "            0.        , 0.        ]],\n",
       "  \n",
       "          [[0.        , 0.86325026, 0.        , ..., 0.        ,\n",
       "            0.        , 0.        ],\n",
       "           [0.        , 0.16964912, 0.        , ..., 0.        ,\n",
       "            0.        , 0.        ],\n",
       "           [0.        , 0.        , 0.        , ..., 0.        ,\n",
       "            0.        , 0.        ],\n",
       "           ...,\n",
       "           [0.        , 0.        , 0.        , ..., 0.        ,\n",
       "            0.        , 0.        ],\n",
       "           [0.        , 0.        , 0.        , ..., 0.        ,\n",
       "            0.        , 0.        ],\n",
       "           [0.        , 0.        , 0.        , ..., 0.        ,\n",
       "            0.        , 0.        ]]],\n",
       "  \n",
       "  \n",
       "         [[[0.        , 0.        , 0.        , ..., 0.        ,\n",
       "            0.        , 0.        ],\n",
       "           [0.        , 0.        , 0.        , ..., 0.        ,\n",
       "            0.        , 0.        ],\n",
       "           [0.        , 0.        , 0.        , ..., 0.        ,\n",
       "            0.        , 0.        ],\n",
       "           ...,\n",
       "           [0.        , 0.        , 0.        , ..., 0.        ,\n",
       "            0.        , 0.50359964],\n",
       "           [0.        , 0.        , 0.        , ..., 0.        ,\n",
       "            0.        , 0.        ],\n",
       "           [0.        , 0.        , 0.        , ..., 0.        ,\n",
       "            0.        , 0.        ]],\n",
       "  \n",
       "          [[0.        , 0.        , 0.        , ..., 0.        ,\n",
       "            0.        , 0.        ],\n",
       "           [0.        , 0.        , 0.        , ..., 0.        ,\n",
       "            0.        , 0.        ],\n",
       "           [0.36652088, 0.        , 0.        , ..., 0.        ,\n",
       "            0.        , 0.        ],\n",
       "           ...,\n",
       "           [0.52234364, 0.        , 0.        , ..., 0.        ,\n",
       "            0.        , 3.0490193 ],\n",
       "           [0.        , 0.        , 0.        , ..., 0.        ,\n",
       "            0.        , 0.        ],\n",
       "           [0.        , 0.        , 0.        , ..., 0.        ,\n",
       "            0.        , 0.        ]],\n",
       "  \n",
       "          [[0.        , 0.8963275 , 0.        , ..., 0.        ,\n",
       "            0.        , 0.        ],\n",
       "           [0.6205087 , 2.17622   , 0.        , ..., 0.        ,\n",
       "            3.5514188 , 0.        ],\n",
       "           [1.509078  , 2.371602  , 0.        , ..., 0.        ,\n",
       "            1.6086802 , 0.        ],\n",
       "           ...,\n",
       "           [0.98618126, 0.        , 0.        , ..., 0.        ,\n",
       "            0.        , 0.        ],\n",
       "           [0.        , 0.        , 0.        , ..., 0.        ,\n",
       "            0.        , 1.9888415 ],\n",
       "           [0.        , 0.        , 0.        , ..., 0.        ,\n",
       "            0.        , 0.9069805 ]],\n",
       "  \n",
       "          ...,\n",
       "  \n",
       "          [[0.        , 3.493425  , 0.        , ..., 0.        ,\n",
       "            0.        , 0.        ],\n",
       "           [0.        , 5.0093474 , 0.        , ..., 0.        ,\n",
       "            0.        , 0.        ],\n",
       "           [0.        , 5.8015733 , 0.08427954, ..., 0.        ,\n",
       "            0.        , 0.        ],\n",
       "           ...,\n",
       "           [0.10646248, 0.        , 0.        , ..., 0.        ,\n",
       "            0.        , 0.        ],\n",
       "           [0.        , 0.        , 0.        , ..., 0.        ,\n",
       "            0.        , 0.        ],\n",
       "           [0.        , 0.        , 0.        , ..., 0.        ,\n",
       "            0.        , 0.        ]],\n",
       "  \n",
       "          [[0.        , 1.1154308 , 0.        , ..., 0.        ,\n",
       "            0.        , 0.        ],\n",
       "           [0.        , 0.        , 0.        , ..., 0.        ,\n",
       "            0.        , 0.        ],\n",
       "           [0.        , 1.1694069 , 0.        , ..., 0.        ,\n",
       "            0.        , 0.        ],\n",
       "           ...,\n",
       "           [0.        , 0.        , 0.        , ..., 0.        ,\n",
       "            0.        , 0.        ],\n",
       "           [0.        , 0.        , 0.        , ..., 0.        ,\n",
       "            0.        , 0.        ],\n",
       "           [0.        , 0.        , 0.        , ..., 0.        ,\n",
       "            0.        , 0.        ]],\n",
       "  \n",
       "          [[0.        , 1.4295173 , 0.        , ..., 0.        ,\n",
       "            0.        , 0.        ],\n",
       "           [0.        , 1.4935632 , 0.        , ..., 0.        ,\n",
       "            0.        , 0.        ],\n",
       "           [0.        , 1.7583785 , 0.        , ..., 0.        ,\n",
       "            0.        , 0.        ],\n",
       "           ...,\n",
       "           [0.        , 0.        , 0.        , ..., 0.        ,\n",
       "            0.        , 0.        ],\n",
       "           [0.        , 0.        , 0.        , ..., 0.        ,\n",
       "            0.        , 0.        ],\n",
       "           [0.        , 0.        , 0.        , ..., 0.        ,\n",
       "            0.        , 0.        ]]],\n",
       "  \n",
       "  \n",
       "         [[[0.        , 0.        , 0.        , ..., 0.        ,\n",
       "            0.        , 0.        ],\n",
       "           [0.        , 0.        , 0.        , ..., 0.        ,\n",
       "            0.        , 0.        ],\n",
       "           [1.5159097 , 0.        , 0.        , ..., 0.        ,\n",
       "            0.        , 0.        ],\n",
       "           ...,\n",
       "           [0.        , 0.        , 0.        , ..., 0.        ,\n",
       "            0.        , 0.        ],\n",
       "           [0.        , 0.        , 0.        , ..., 0.        ,\n",
       "            0.        , 0.        ],\n",
       "           [0.        , 0.        , 0.        , ..., 0.        ,\n",
       "            0.        , 0.        ]],\n",
       "  \n",
       "          [[0.        , 0.        , 0.        , ..., 0.        ,\n",
       "            0.        , 0.        ],\n",
       "           [1.2333617 , 0.        , 0.        , ..., 0.        ,\n",
       "            0.        , 0.        ],\n",
       "           [2.2785444 , 0.        , 0.        , ..., 0.        ,\n",
       "            0.        , 0.        ],\n",
       "           ...,\n",
       "           [0.        , 0.        , 0.        , ..., 0.        ,\n",
       "            0.        , 0.4654317 ],\n",
       "           [0.        , 0.        , 0.        , ..., 0.        ,\n",
       "            0.        , 0.        ],\n",
       "           [0.        , 0.        , 0.        , ..., 0.        ,\n",
       "            0.        , 0.        ]],\n",
       "  \n",
       "          [[0.8144808 , 1.0431304 , 0.        , ..., 0.        ,\n",
       "            0.        , 0.        ],\n",
       "           [2.3224454 , 2.8862267 , 0.        , ..., 0.        ,\n",
       "            3.383552  , 0.        ],\n",
       "           [1.6524448 , 2.181138  , 0.        , ..., 0.        ,\n",
       "            1.4186559 , 0.        ],\n",
       "           ...,\n",
       "           [3.822112  , 0.        , 0.        , ..., 0.        ,\n",
       "            0.        , 0.        ],\n",
       "           [0.        , 0.        , 0.        , ..., 0.        ,\n",
       "            0.        , 0.80647373],\n",
       "           [0.        , 0.        , 0.        , ..., 0.        ,\n",
       "            0.        , 0.        ]],\n",
       "  \n",
       "          ...,\n",
       "  \n",
       "          [[0.        , 2.6430964 , 0.        , ..., 0.        ,\n",
       "            0.        , 0.        ],\n",
       "           [1.3521562 , 1.5182395 , 0.        , ..., 0.        ,\n",
       "            0.        , 0.        ],\n",
       "           [0.        , 1.880744  , 0.        , ..., 0.        ,\n",
       "            0.        , 0.        ],\n",
       "           ...,\n",
       "           [3.2854223 , 0.        , 1.951971  , ..., 0.        ,\n",
       "            0.        , 0.9020252 ],\n",
       "           [1.4352856 , 0.        , 0.        , ..., 0.        ,\n",
       "            0.        , 0.12103939],\n",
       "           [0.8351445 , 0.        , 0.        , ..., 0.        ,\n",
       "            0.        , 0.        ]],\n",
       "  \n",
       "          [[0.        , 0.749125  , 0.        , ..., 0.        ,\n",
       "            0.        , 0.        ],\n",
       "           [0.        , 0.        , 0.        , ..., 0.        ,\n",
       "            0.        , 0.        ],\n",
       "           [0.        , 0.7091861 , 0.        , ..., 0.        ,\n",
       "            0.        , 0.        ],\n",
       "           ...,\n",
       "           [0.        , 0.        , 0.        , ..., 0.        ,\n",
       "            0.        , 0.        ],\n",
       "           [0.        , 0.        , 0.        , ..., 0.        ,\n",
       "            0.        , 0.        ],\n",
       "           [0.        , 0.        , 0.        , ..., 0.        ,\n",
       "            0.        , 0.        ]],\n",
       "  \n",
       "          [[0.        , 1.6446233 , 0.        , ..., 0.        ,\n",
       "            0.        , 0.        ],\n",
       "           [0.        , 2.1175852 , 0.        , ..., 0.        ,\n",
       "            0.        , 0.        ],\n",
       "           [0.        , 2.292841  , 0.        , ..., 0.        ,\n",
       "            0.        , 0.        ],\n",
       "           ...,\n",
       "           [0.        , 0.        , 0.        , ..., 0.        ,\n",
       "            0.        , 0.        ],\n",
       "           [0.        , 0.        , 0.        , ..., 0.        ,\n",
       "            0.        , 0.        ],\n",
       "           [0.        , 0.        , 0.        , ..., 0.        ,\n",
       "            0.        , 0.        ]]]], dtype=float32), array([[14.2, 18.2],\n",
       "         [14.2, 17.8],\n",
       "         [14.8, 19. ],\n",
       "         [13.4, 19. ]], dtype=float32), array([[0.8333333, 0.625    ],\n",
       "         [0.8333333, 2.5      ],\n",
       "         [0.8333333, 0.625    ],\n",
       "         [1.25     , 0.625    ]], dtype=float32)], array([0., 0., 0., 0.]))"
      ]
     },
     "execution_count": 6,
     "metadata": {},
     "output_type": "execute_result"
    }
   ],
   "source": [
    "next(gen)"
   ]
  },
  {
   "cell_type": "markdown",
   "metadata": {},
   "source": [
    "##### The definition of the top layers of the model. The first 5 layers of the top repersents self-attention mechanism which replaces GlobalAveraging of the original MobileNetV2, after that we have essentially linear regression model using the features produced by base convolutional model and self-attention mechanism. The last 4 layers produce custom loss function, that takes into account weights for balancing an unbalanced dataset."
   ]
  },
  {
   "cell_type": "code",
   "execution_count": 7,
   "metadata": {},
   "outputs": [],
   "source": [
    "\n",
    "inp0 = Input(shape=(None,None,1280))\n",
    "inp1 = Input(shape=(2,))\n",
    "inp2 = Input(shape=(2,))\n",
    "\n",
    "x = inp0\n",
    "labels = inp1\n",
    "loss_weights = inp2\n",
    "\n",
    "\n",
    "weights=Conv2D(1,(3,3),activation='sigmoid',padding='SAME',kernel_initializer=keras.initializers.Zeros(),\n",
    "                                                   bias_initializer=keras.initializers.Ones())(x)\n",
    "\n",
    "#next two lines make the weights sum up to 1: weights->weights/sum(weights)\n",
    "norm = Lambda(lambda t: 1/K.sum(t,axis=[1,2]))(weights)\n",
    "\n",
    "weights = merge.multiply([norm,weights])\n",
    "\n",
    "#next two lines calculate weighted average, which is used instead of original global average\n",
    "x = merge.multiply([x,weights])\n",
    "\n",
    "x = Lambda(lambda t: K.sum(t,axis=[1,2]))(x)\n",
    "\n",
    "# calculating the final prediction using lineal regression on the previousely generated features\n",
    "\n",
    "prediction = Dense(2)(x)\n",
    "\n",
    "# constructing the custom weighted loss\n",
    "err = subtract([prediction,labels])\n",
    "sqr_err = Lambda(K.square)(err)\n",
    "weighted_sqr_err = multiply([sqr_err,loss_weights])\n",
    "loss = Lambda(K.mean)(weighted_sqr_err)"
   ]
  },
  {
   "cell_type": "markdown",
   "metadata": {},
   "source": [
    "##### Creating the model"
   ]
  },
  {
   "cell_type": "code",
   "execution_count": 8,
   "metadata": {},
   "outputs": [],
   "source": [
    "model_top=Model(inputs=[inp0,inp1,inp2],outputs=[loss])#,weights"
   ]
  },
  {
   "cell_type": "code",
   "execution_count": 9,
   "metadata": {},
   "outputs": [
    {
     "name": "stdout",
     "output_type": "stream",
     "text": [
      "__________________________________________________________________________________________________\n",
      "Layer (type)                    Output Shape         Param #     Connected to                     \n",
      "==================================================================================================\n",
      "input_2 (InputLayer)            (None, None, None, 1 0                                            \n",
      "__________________________________________________________________________________________________\n",
      "conv2d_1 (Conv2D)               (None, None, None, 1 11521       input_2[0][0]                    \n",
      "__________________________________________________________________________________________________\n",
      "lambda_1 (Lambda)               (None, 1)            0           conv2d_1[0][0]                   \n",
      "__________________________________________________________________________________________________\n",
      "multiply_1 (Multiply)           (None, None, None, 1 0           lambda_1[0][0]                   \n",
      "                                                                 conv2d_1[0][0]                   \n",
      "__________________________________________________________________________________________________\n",
      "multiply_2 (Multiply)           (None, None, None, 1 0           input_2[0][0]                    \n",
      "                                                                 multiply_1[0][0]                 \n",
      "__________________________________________________________________________________________________\n",
      "lambda_2 (Lambda)               (None, 1280)         0           multiply_2[0][0]                 \n",
      "__________________________________________________________________________________________________\n",
      "dense_1 (Dense)                 (None, 2)            2562        lambda_2[0][0]                   \n",
      "__________________________________________________________________________________________________\n",
      "input_3 (InputLayer)            (None, 2)            0                                            \n",
      "__________________________________________________________________________________________________\n",
      "subtract_1 (Subtract)           (None, 2)            0           dense_1[0][0]                    \n",
      "                                                                 input_3[0][0]                    \n",
      "__________________________________________________________________________________________________\n",
      "lambda_3 (Lambda)               (None, 2)            0           subtract_1[0][0]                 \n",
      "__________________________________________________________________________________________________\n",
      "input_4 (InputLayer)            (None, 2)            0                                            \n",
      "__________________________________________________________________________________________________\n",
      "multiply_3 (Multiply)           (None, 2)            0           lambda_3[0][0]                   \n",
      "                                                                 input_4[0][0]                    \n",
      "__________________________________________________________________________________________________\n",
      "lambda_4 (Lambda)               ()                   0           multiply_3[0][0]                 \n",
      "==================================================================================================\n",
      "Total params: 14,083\n",
      "Trainable params: 14,083\n",
      "Non-trainable params: 0\n",
      "__________________________________________________________________________________________________\n"
     ]
    }
   ],
   "source": [
    "model_top.summary()"
   ]
  },
  {
   "cell_type": "markdown",
   "metadata": {},
   "source": [
    "##### to use fit_generator method we need to define the custom dummy loss function. Since the model already produces loss as an output, all we need is to return the predicted value"
   ]
  },
  {
   "cell_type": "code",
   "execution_count": 10,
   "metadata": {},
   "outputs": [],
   "source": [
    "def loss_compile(y_true,y):\n",
    "      return y\n",
    "    "
   ]
  },
  {
   "cell_type": "markdown",
   "metadata": {},
   "source": [
    "##### Defining optimizer and compile model for training"
   ]
  },
  {
   "cell_type": "code",
   "execution_count": 11,
   "metadata": {},
   "outputs": [],
   "source": [
    "adagr = keras.optimizers.Adagrad(lr=.001)"
   ]
  },
  {
   "cell_type": "code",
   "execution_count": 12,
   "metadata": {},
   "outputs": [],
   "source": [
    "model_top.compile(optimizer=adagr,loss=loss_compile)"
   ]
  },
  {
   "cell_type": "markdown",
   "metadata": {},
   "source": [
    "##### If model has been already trained and saved, uncomment the following line to load saved model"
   ]
  },
  {
   "cell_type": "code",
   "execution_count": 13,
   "metadata": {},
   "outputs": [],
   "source": [
    "#model_top=load_model('mobile_top_3.h5',custom_objects={'loss_compile':loss_compile,'relu6':ReLU(6.),'tf':tf})"
   ]
  },
  {
   "cell_type": "markdown",
   "metadata": {},
   "source": [
    "##### Training of the model. The for-loop is used to return the decaying learning rate back to it's original value and by that create additional disturbance to avoid falling into local minimum and also saving the model every N iterations. "
   ]
  },
  {
   "cell_type": "code",
   "execution_count": 16,
   "metadata": {
    "scrolled": true
   },
   "outputs": [
    {
     "name": "stderr",
     "output_type": "stream",
     "text": [
      "\n",
      "\n",
      "  0%|                                                                                            | 0/2 [00:00<?, ?it/s]"
     ]
    },
    {
     "name": "stdout",
     "output_type": "stream",
     "text": [
      "Epoch 1/1\n",
      "2/2 [==============================] - ETA: 19s - loss: 185.03 - 38s 19s/step - loss: 213.2952\n"
     ]
    },
    {
     "name": "stderr",
     "output_type": "stream",
     "text": [
      "\n",
      "\n",
      " 50%|██████████████████████████████████████████                                          | 1/2 [00:55<00:55, 55.83s/it]"
     ]
    },
    {
     "name": "stdout",
     "output_type": "stream",
     "text": [
      "Epoch 1/1\n",
      "2/2 [==============================] - ETA: 19s - loss: 226.41 - 37s 19s/step - loss: 225.9826\n"
     ]
    },
    {
     "name": "stderr",
     "output_type": "stream",
     "text": [
      "\n",
      "\n",
      "100%|████████████████████████████████████████████████████████████████████████████████████| 2/2 [01:51<00:00, 55.98s/it]\n",
      "\n"
     ]
    }
   ],
   "source": [
    "for i in tqdm(range(2)):\n",
    "    model_top.fit_generator(gen,epochs=1,steps_per_epoch=2)\n",
    "    model_top.save('mobile_top_3.h5')"
   ]
  },
  {
   "cell_type": "markdown",
   "metadata": {},
   "source": [
    "##### In case of training on the cloud switch off the virtual machine after training is finished, to avoid additional costs for GPU time"
   ]
  },
  {
   "cell_type": "code",
   "execution_count": null,
   "metadata": {
    "collapsed": true
   },
   "outputs": [],
   "source": [
    "!sudo poweroff"
   ]
  },
  {
   "cell_type": "markdown",
   "metadata": {},
   "source": [
    "##### After the top layers were pretrained I build up the full model including convolutional base and save it for further training"
   ]
  },
  {
   "cell_type": "code",
   "execution_count": 13,
   "metadata": {},
   "outputs": [],
   "source": [
    "inp0=Input((None,None,None))\n",
    "inp1 = Input(shape=(2,))\n",
    "inp2 = Input(shape=(2,))\n",
    "\n",
    "x = inp0\n",
    "labels = inp1\n",
    "loss_weights = inp2\n",
    "\n",
    "x=mobinet(x)\n",
    "loss=model_top([x,inp1,inp2])"
   ]
  },
  {
   "cell_type": "code",
   "execution_count": 14,
   "metadata": {},
   "outputs": [],
   "source": [
    "full_model = Model(inputs=[inp0,inp1,inp2],outputs=[loss])"
   ]
  },
  {
   "cell_type": "code",
   "execution_count": 16,
   "metadata": {},
   "outputs": [
    {
     "name": "stdout",
     "output_type": "stream",
     "text": [
      "__________________________________________________________________________________________________\n",
      "Layer (type)                    Output Shape         Param #     Connected to                     \n",
      "==================================================================================================\n",
      "input_8 (InputLayer)            (None, None, None, N 0                                            \n",
      "__________________________________________________________________________________________________\n",
      "mobilenetv2_1.00_224 (Model)    (None, None, None, 1 2257984     input_8[0][0]                    \n",
      "__________________________________________________________________________________________________\n",
      "input_9 (InputLayer)            (None, 2)            0                                            \n",
      "__________________________________________________________________________________________________\n",
      "input_10 (InputLayer)           (None, 2)            0                                            \n",
      "__________________________________________________________________________________________________\n",
      "model_1 (Model)                 ()                   14083       mobilenetv2_1.00_224[2][0]       \n",
      "                                                                 input_9[0][0]                    \n",
      "                                                                 input_10[0][0]                   \n",
      "==================================================================================================\n",
      "Total params: 2,272,067\n",
      "Trainable params: 2,237,955\n",
      "Non-trainable params: 34,112\n",
      "__________________________________________________________________________________________________\n"
     ]
    }
   ],
   "source": [
    "full_model.summary()"
   ]
  },
  {
   "cell_type": "code",
   "execution_count": null,
   "metadata": {},
   "outputs": [],
   "source": [
    "full_model.save('mobile_mini_top_attention_3.h5')"
   ]
  }
 ],
 "metadata": {
  "kernelspec": {
   "display_name": "Python 3",
   "language": "python",
   "name": "python3"
  },
  "language_info": {
   "codemirror_mode": {
    "name": "ipython",
    "version": 3
   },
   "file_extension": ".py",
   "mimetype": "text/x-python",
   "name": "python",
   "nbconvert_exporter": "python",
   "pygments_lexer": "ipython3",
   "version": "3.6.6"
  }
 },
 "nbformat": 4,
 "nbformat_minor": 2
}
