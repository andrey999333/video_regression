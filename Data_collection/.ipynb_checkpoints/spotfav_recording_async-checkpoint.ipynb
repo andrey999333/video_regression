{
 "cells": [
  {
   "cell_type": "markdown",
   "metadata": {},
   "source": [
    "#### This notebook representation of the script spotfav_recording_async.py that runs a pipline command for a windows(!!!) command line using subprocess module. The aim of this command is to capture video files from the webcams streaming video to the internet. The video clips of duration 30 sec are captured every 5 min (300sec)  from 5 different webcams and are saved into newly created directory (name_of_directory=location_name). The video clips are only recorded  between 10am and 7pm. To run this script you need a presence of AdobeHDS.php file in the same directory and PHP installed on your system "
   ]
  },
  {
   "cell_type": "code",
   "execution_count": null,
   "metadata": {
    "collapsed": true
   },
   "outputs": [],
   "source": [
    "import subprocess\n",
    "import datetime\n",
    "import time"
   ]
  },
  {
   "cell_type": "code",
   "execution_count": null,
   "metadata": {
    "collapsed": true
   },
   "outputs": [],
   "source": [
    "def record(location,duration=10):\n",
    "\n",
    "    #Create filename in format 'year-month-day-hour-minute', easy to parse later\n",
    "\n",
    "    filename = '\"{}-{}-{}\"'.format(datetime.datetime.today().date(),datetime.datetime.today().hour,\n",
    "                                     datetime.datetime.today().minute)\n",
    "    # creates windows cmd command to start video parser AdobeHDS, that will save video into file in derectory 'location'\n",
    "    command = (r'php AdobeHDS.php --manifest \"https://flus0.spotfav.com/'+ location +'/manifest.f4m\" --delete'\n",
    "            ' --outdir \"' + location + '\" --outfile ' + filename + ' --duration '+ str(duration))\n",
    "\n",
    "    #send the comand for execution, wait 2 second for the response. If there is no response in 5 sec recording is probably started\n",
    "    \n",
    "    try:\n",
    "        out=subprocess.Popen(command,stdout=subprocess.PIPE).communicate(timeout=5)\n",
    "    except:\n",
    "        out=0\n",
    "\n",
    "    #handels the output messages of Popen (if any) and prints what's going on\n",
    "    \n",
    "    try:\n",
    "        if out[0].splitlines()[-1]==b'Unable to download the manifest':\n",
    "            print('webcam on {} is down'.format(location))\n",
    "        else:\n",
    "            print(out)\n",
    "    except:\n",
    "        if out==0:\n",
    "            print('recording on {}'.format(location))\n",
    "        else:\n",
    "            print(out)"
   ]
  },
  {
   "cell_type": "code",
   "execution_count": null,
   "metadata": {
    "collapsed": true
   },
   "outputs": [],
   "source": [
    "#list of locations\n",
    "locations=['arte-vida','valdevaqueros-tangana','balneario','ion-club-valdevaqueros','zahara-atunes']"
   ]
  },
  {
   "cell_type": "code",
   "execution_count": 22,
   "metadata": {},
   "outputs": [
    {
     "name": "stdout",
     "output_type": "stream",
     "text": [
      "recording on arte-vida\n",
      "recording on valdevaqueros-tangana\n",
      "recording on balneario\n",
      "webcam on ion-club-valdevaqueros is down\n",
      "recording on zahara-atunes\n"
     ]
    }
   ],
   "source": [
    "#the loop through locations to record video in all of them with duration of video in seconds (10second by default)\n",
    "step=300 #how many seconds to wait between the cycles of recordings\n",
    "while True:\n",
    "    if datetime.datetime.today().hour>=10 and datetime.datetime.today().hour<19:\n",
    "        try:\n",
    "            for loc in locations:\n",
    "                record(loc,duration=30)\n",
    "        except KeyboardInterrupt:\n",
    "            break\n",
    "    else:\n",
    "        hour=datetime.datetime.today().hour\n",
    "        time_to_start=(hour>10)*24+10-hour\n",
    "        print('paused for {} hours'.format(time_to_start))\n",
    "        time.sleep(time_to_start*3600)\n",
    "    print('paused for {} seconds'.format(step))\n",
    "    time.sleep(step)"
   ]
  }
 ],
 "metadata": {
  "kernelspec": {
   "display_name": "Python 3",
   "language": "python",
   "name": "python3"
  },
  "language_info": {
   "codemirror_mode": {
    "name": "ipython",
    "version": 3
   },
   "file_extension": ".py",
   "mimetype": "text/x-python",
   "name": "python",
   "nbconvert_exporter": "python",
   "pygments_lexer": "ipython3",
   "version": "3.6.6"
  }
 },
 "nbformat": 4,
 "nbformat_minor": 2
}
