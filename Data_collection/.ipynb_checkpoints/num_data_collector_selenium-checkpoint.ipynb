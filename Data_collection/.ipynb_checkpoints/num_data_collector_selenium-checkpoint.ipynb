{
 "cells": [
  {
   "cell_type": "markdown",
   "metadata": {},
   "source": [
    "#### This purpose of this file is to collect numerical data about average wind and wind gust strength from the windfinder website (www.winfinder.com) and to store the collected data into csv file"
   ]
  },
  {
   "cell_type": "code",
   "execution_count": 1,
   "metadata": {},
   "outputs": [],
   "source": [
    "from datetime import date, timedelta\n",
    "import datetime\n",
    "import pandas as pd\n",
    "import csv\n",
    "import numpy as np\n",
    "import os \n",
    "from selenium import webdriver\n",
    "from selenium.webdriver.chrome.webdriver import WebDriver"
   ]
  },
  {
   "cell_type": "markdown",
   "metadata": {},
   "source": [
    "#### This function opens chrome and run a simple js script to harvest the data from the website"
   ]
  },
  {
   "cell_type": "code",
   "execution_count": 2,
   "metadata": {
    "collapsed": true
   },
   "outputs": [],
   "source": [
    "def get_data(url):\n",
    "    browser=webdriver.Chrome('C:/Users/ttnnn/Anaconda3/selenium/webdriver/Chrome/chromedriver.exe')\n",
    "    browser.get(url)\n",
    "    try:\n",
    "        temp = browser.execute_script('return window.Highcharts.charts[0].series.slice(0,3).map(a=>a.options.data)')\n",
    "    except:\n",
    "        print('Unable to get the data')\n",
    "        browser.close()\n",
    "        return None\n",
    "    data=np.array(temp)\n",
    "    #print('data shape {}'.format(data.shape))\n",
    "    try:\n",
    "        data=np.concatenate([data[0,:,0].reshape(-1,1)//1000,data[0,:,-1].reshape(-1,1),data[1,:,-1].reshape(-1,1)],axis=1)#\n",
    "    except:\n",
    "        print('data is not in expected format, possibly no data available for this day')\n",
    "        browser.close()\n",
    "        return None\n",
    "    browser.close()\n",
    "    return data"
   ]
  },
  {
   "cell_type": "markdown",
   "metadata": {},
   "source": [
    "#### This function creates date as string in a certain format from the timestamp"
   ]
  },
  {
   "cell_type": "code",
   "execution_count": 3,
   "metadata": {
    "collapsed": true
   },
   "outputs": [],
   "source": [
    "def date_from_stamp(x):\n",
    "    year=datetime.datetime.fromtimestamp(x).year\n",
    "    month=datetime.datetime.fromtimestamp(x).month\n",
    "    day=datetime.datetime.fromtimestamp(x).day\n",
    "    hour=datetime.datetime.fromtimestamp(x).hour\n",
    "    minute=datetime.datetime.fromtimestamp(x).minute\n",
    "    if hour>=10 and hour<=19:\n",
    "        return '{}-{}-{}-{}-{}'.format(year,month,day,hour,minute)\n",
    "    else:\n",
    "        return 0"
   ]
  },
  {
   "cell_type": "markdown",
   "metadata": {},
   "source": [
    "#### This function create a date to retrive the history given how many days back you want to look"
   ]
  },
  {
   "cell_type": "code",
   "execution_count": 4,
   "metadata": {
    "collapsed": true
   },
   "outputs": [],
   "source": [
    "def day_back_to_date(days_back):\n",
    "    if days_back>=0 and days_back<8: #the website only contains information down to one week back\n",
    "        return str(date.today()-timedelta(days_back))\n",
    "    else:\n",
    "        return None"
   ]
  },
  {
   "cell_type": "markdown",
   "metadata": {},
   "source": [
    "#### This function writes data into csv file for given location and number of days back from today. It creates the directory of the same name as location and writes csv file into this directory"
   ]
  },
  {
   "cell_type": "code",
   "execution_count": 5,
   "metadata": {
    "collapsed": true
   },
   "outputs": [],
   "source": [
    "def data_to_file(days_back,location):\n",
    "    \n",
    "    dt= day_back_to_date(days_back)\n",
    "    if dt is None:\n",
    "        print ('No data available for this date')\n",
    "        return\n",
    "    \n",
    "    if dt==str(date.today()):\n",
    "        dturl=''\n",
    "    else:\n",
    "        dturl=dt\n",
    "        \n",
    "    url = \"https://www.windfinder.com/report/{}/{}\".format(location,dturl)\n",
    "    \n",
    "    print('getting data from {} on day {}'.format(location,dt))\n",
    "   \n",
    "    data=get_data(url)\n",
    "    \n",
    "    if data is None:\n",
    "        return\n",
    "    \n",
    "    df=pd.DataFrame(data,columns=['date','Avg. wind','wind gusts'])\n",
    "\n",
    "    df.date=df.date.apply(date_from_stamp)\n",
    "\n",
    "    df=df[~(df['date']==0)]\n",
    "\n",
    "    try:\n",
    "        os.makedirs('{}'.format(location))\n",
    "    except FileExistsError:\n",
    "        pass\n",
    "    df.to_csv(\"{}\\{}.csv\".format(location,dt),index=False)"
   ]
  },
  {
   "cell_type": "markdown",
   "metadata": {
    "collapsed": true
   },
   "source": [
    "#### this is the final script to perform collection of the data and writing it into csv file for given list of locations and range of the days in history, from 0 to maximum 7 days."
   ]
  },
  {
   "cell_type": "code",
   "execution_count": 7,
   "metadata": {
    "scrolled": false
   },
   "outputs": [
    {
     "name": "stdout",
     "output_type": "stream",
     "text": [
      "getting data from valdevaqueros on day 2018-07-11\n",
      "getting data from valdevaqueros on day 2018-07-10\n",
      "Unable to get the data\n",
      "getting data from valdevaqueros on day 2018-07-09\n",
      "getting data from valdevaqueros on day 2018-07-08\n",
      "Unable to get the data\n"
     ]
    }
   ],
   "source": [
    "locationsWF=['valdevaqueros']#,'tarifa-puerto'\n",
    "\n",
    "for location in locationsWF:\n",
    "    for days_back in range(4,8):\n",
    "        data_to_file(days_back,location)"
   ]
  },
  {
   "cell_type": "code",
   "execution_count": null,
   "metadata": {
    "collapsed": true
   },
   "outputs": [],
   "source": []
  }
 ],
 "metadata": {
  "kernelspec": {
   "display_name": "Python 3",
   "language": "python",
   "name": "python3"
  },
  "language_info": {
   "codemirror_mode": {
    "name": "ipython",
    "version": 3
   },
   "file_extension": ".py",
   "mimetype": "text/x-python",
   "name": "python",
   "nbconvert_exporter": "python",
   "pygments_lexer": "ipython3",
   "version": "3.6.6"
  }
 },
 "nbformat": 4,
 "nbformat_minor": 2
}
